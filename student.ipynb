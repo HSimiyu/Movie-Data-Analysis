{
 "cells": [
  {
   "cell_type": "markdown",
   "metadata": {},
   "source": [
    "## Final Project Submission\n",
    "\n",
    "Please fill out:\n",
    "* Student name: HILARY SIMIYU\n",
    "* Student pace: full time\n",
    "* Scheduled project review date/time: \n",
    "* Instructor name: Diana Mongina\n",
    "* Blog Post URL:  \n"
   ]
  },
  {
   "attachments": {
    "download.jpg": {
     "image/jpeg": "[encoded data removed]"
    }
   },
   "cell_type": "markdown",
   "metadata": {},
   "source": [
    "# OVERVIEW\n",
    "\n",
    "![download.jpg](attachment:download.jpg)\n",
    "\n",
    "\n"
   ]
  },
  {
   "cell_type": "markdown",
   "metadata": {},
   "source": [
    "This project will put into application Exploratory Data Analysis to bring about understanding on how Microsoft can create a new Movie Studio and navigate the market to ensure maximum profits on this investment.\n",
    "Microsoft can use this analysis to determine the best genre to venture into, favourable languages to produce movies in, appropriate runtime and suitable markets to penetrate  into so as to increase their company's revenue."
   ]
  },
  {
   "cell_type": "markdown",
   "metadata": {},
   "source": [
    "# Business Understanding\n",
    "To increase its revenue as a company Microsoft can start a new Movie Studio and use this opportunity to venture into new markets and be able to compete favourably.Doing this will enable Microsoft to reach newer audiences and bring about expansion which in turn increases profits of the company and one of the main goals of starting a company is to provide services that will in turn generate financial rewards to the invetser.\n"
   ]
  },
  {
   "cell_type": "markdown",
   "metadata": {},
   "source": [
    "# Objectives\n",
    "\n",
    " - What genre is suitable to produce a movie in\n",
    " - How much to invest in a movie\n",
    " - The relationshipe between a movie language and its popularity\n",
    "\n",
    "\n",
    "To answer these questions we'll breakdown our analysis as follows:"
   ]
  },
  {
   "cell_type": "markdown",
   "metadata": {},
   "source": [
    "# 1) DATA UNDERSTANDING\n",
    "\n",
    "For this analysis we are making use of data collected from the following sites:\n",
    " * https://www.imdb.com/\n",
    " * https://www.boxofficemojo.com/\n",
    " * https://www.rottentomatoes.com/\n",
    " * https://www.themoviedb.org/\n",
    " * https://www.the-numbers.com/"
   ]
  },
  {
   "cell_type": "code",
   "execution_count": 1,
   "metadata": {},
   "outputs": [],
   "source": [
    "import pandas as pd\n",
    "import numpy as np\n",
    "import matplotlib.pyplot as plt\n",
    "import seaborn as sns\n",
    "import sqlite3\n",
    "\n",
    "%matplotlib inline"
   ]
  },
  {
   "cell_type": "code",
   "execution_count": null,
   "metadata": {},
   "outputs": [],
   "source": []
  }
 ],
 "metadata": {
  "kernelspec": {
   "display_name": "Python 3",
   "language": "python",
   "name": "python3"
  },
  "language_info": {
   "codemirror_mode": {
    "name": "ipython",
    "version": 3
   },
   "file_extension": ".py",
   "mimetype": "text/x-python",
   "name": "python",
   "nbconvert_exporter": "python",
   "pygments_lexer": "ipython3",
   "version": "3.8.5"
  }
 },
 "nbformat": 4,
 "nbformat_minor": 2
}
