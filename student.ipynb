{
 "cells": [
  {
   "cell_type": "markdown",
   "metadata": {},
   "source": [
    "## Final Project Submission\n",
    "\n",
    "Please fill out:\n",
    "* Student name: HILARY SIMIYU\n",
    "* Student pace: full time\n",
    "* Scheduled project review date/time: \n",
    "* Instructor name: Nikita Njoroge\n",
    "* Blog Post URL:  \n"
   ]
  },
  {
   "attachments": {
    "download.jpg": {
     "image/jpeg": "[encoded data removed]"
    }
   },
   "cell_type": "markdown",
   "metadata": {},
   "source": [
    "# OVERVIEW\n",
    "\n",
    "![download.jpg](attachment:download.jpg)\n",
    "\n",
    "\n"
   ]
  },
  {
   "cell_type": "markdown",
   "metadata": {},
   "source": [
    "This project will put into application Exploratory Data Analysis to bring about understanding of the specs around Movie Production and Highlight favourable conditions for Microsoft.This will enable Microsoft to understand the pros and cons of creating a new Movie Studio and navigate the market to ensure maximum profits on this investment.\n",
    "Microsoft can use this analysis to determine the best genre to venture into, favourable languages to produce movies in, appropriate runtime and suitable markets to penetrate  into so as to increase their company's revenue and reach more audiences."
   ]
  },
  {
   "cell_type": "markdown",
   "metadata": {},
   "source": [
    "# Business Understanding\n",
    "\n",
    "To increase its revenue as a company, Microsoft can start a new Movie Studio and use this opportunity to venture into new markets they have never worked in.Doing this will enable Microsoft to reach new audiences and bring about expansion of the business which in turn increases profits of the company and one of the main goals of starting a company is to provide services that will in turn generate financial rewards to the company's stakeholders.\n"
   ]
  },
  {
   "cell_type": "markdown",
   "metadata": {},
   "source": [
    "# Objectives\n",
    "\n",
    " - Find the genre that is profitable to produce a movie in\n",
    " - How much to invest in a movie's production\n",
    " - The relationship between a movie's language and its popularity among audiences\n",
    "\n",
    "\n",
    "To answer these questions we'll breakdown our analysis as follows:"
   ]
  },
  {
   "cell_type": "markdown",
   "metadata": {},
   "source": [
    "# 1) DATA UNDERSTANDING\n",
    "\n",
    "For this analysis we are making use of data collected from the following sites:\n",
    " * https://www.imdb.com/\n",
    " * https://www.boxofficemojo.com/\n",
    " * https://www.rottentomatoes.com/\n",
    " * https://www.themoviedb.org/\n",
    " * https://www.the-numbers.com/"
   ]
  },
  {
   "cell_type": "code",
   "execution_count": 1,
   "metadata": {},
   "outputs": [],
   "source": [
    "import pandas as pd\n",
    "import numpy as np\n",
    "import matplotlib.pyplot as plt\n",
    "import seaborn as sns\n",
    "import sqlite3\n",
    "\n",
    "%matplotlib inline"
   ]
  },
  {
   "cell_type": "markdown",
   "metadata": {},
   "source": [
    "#### Using pandas we'll open the _'tmdb.movies.csv.gz'_ csv file from the Zipped Data folder and save it in a data frame called movie_data"
   ]
  },
  {
   "cell_type": "code",
   "execution_count": 2,
   "metadata": {},
   "outputs": [],
   "source": [
    "movie_data = pd.read_csv('zippedData/tmdb.movies.csv.gz', index_col=0)"
   ]
  },
  {
   "cell_type": "code",
   "execution_count": 3,
   "metadata": {},
   "outputs": [
    {
     "data": {
      "text/html": [
       "<div>\n",
       "<style scoped>\n",
       "    .dataframe tbody tr th:only-of-type {\n",
       "        vertical-align: middle;\n",
       "    }\n",
       "\n",
       "    .dataframe tbody tr th {\n",
       "        vertical-align: top;\n",
       "    }\n",
       "\n",
       "    .dataframe thead th {\n",
       "        text-align: right;\n",
       "    }\n",
       "</style>\n",
       "<table border=\"1\" class=\"dataframe\">\n",
       "  <thead>\n",
       "    <tr style=\"text-align: right;\">\n",
       "      <th></th>\n",
       "      <th>genre_ids</th>\n",
       "      <th>id</th>\n",
       "      <th>original_language</th>\n",
       "      <th>original_title</th>\n",
       "      <th>popularity</th>\n",
       "      <th>release_date</th>\n",
       "      <th>title</th>\n",
       "      <th>vote_average</th>\n",
       "      <th>vote_count</th>\n",
       "    </tr>\n",
       "  </thead>\n",
       "  <tbody>\n",
       "    <tr>\n",
       "      <th>0</th>\n",
       "      <td>[12, 14, 10751]</td>\n",
       "      <td>12444</td>\n",
       "      <td>en</td>\n",
       "      <td>Harry Potter and the Deathly Hallows: Part 1</td>\n",
       "      <td>33.533</td>\n",
       "      <td>2010-11-19</td>\n",
       "      <td>Harry Potter and the Deathly Hallows: Part 1</td>\n",
       "      <td>7.7</td>\n",
       "      <td>10788</td>\n",
       "    </tr>\n",
       "    <tr>\n",
       "      <th>1</th>\n",
       "      <td>[14, 12, 16, 10751]</td>\n",
       "      <td>10191</td>\n",
       "      <td>en</td>\n",
       "      <td>How to Train Your Dragon</td>\n",
       "      <td>28.734</td>\n",
       "      <td>2010-03-26</td>\n",
       "      <td>How to Train Your Dragon</td>\n",
       "      <td>7.7</td>\n",
       "      <td>7610</td>\n",
       "    </tr>\n",
       "    <tr>\n",
       "      <th>2</th>\n",
       "      <td>[12, 28, 878]</td>\n",
       "      <td>10138</td>\n",
       "      <td>en</td>\n",
       "      <td>Iron Man 2</td>\n",
       "      <td>28.515</td>\n",
       "      <td>2010-05-07</td>\n",
       "      <td>Iron Man 2</td>\n",
       "      <td>6.8</td>\n",
       "      <td>12368</td>\n",
       "    </tr>\n",
       "    <tr>\n",
       "      <th>3</th>\n",
       "      <td>[16, 35, 10751]</td>\n",
       "      <td>862</td>\n",
       "      <td>en</td>\n",
       "      <td>Toy Story</td>\n",
       "      <td>28.005</td>\n",
       "      <td>1995-11-22</td>\n",
       "      <td>Toy Story</td>\n",
       "      <td>7.9</td>\n",
       "      <td>10174</td>\n",
       "    </tr>\n",
       "    <tr>\n",
       "      <th>4</th>\n",
       "      <td>[28, 878, 12]</td>\n",
       "      <td>27205</td>\n",
       "      <td>en</td>\n",
       "      <td>Inception</td>\n",
       "      <td>27.920</td>\n",
       "      <td>2010-07-16</td>\n",
       "      <td>Inception</td>\n",
       "      <td>8.3</td>\n",
       "      <td>22186</td>\n",
       "    </tr>\n",
       "  </tbody>\n",
       "</table>\n",
       "</div>"
      ],
      "text/plain": [
       "             genre_ids     id original_language  \\\n",
       "0      [12, 14, 10751]  12444                en   \n",
       "1  [14, 12, 16, 10751]  10191                en   \n",
       "2        [12, 28, 878]  10138                en   \n",
       "3      [16, 35, 10751]    862                en   \n",
       "4        [28, 878, 12]  27205                en   \n",
       "\n",
       "                                 original_title  popularity release_date  \\\n",
       "0  Harry Potter and the Deathly Hallows: Part 1      33.533   2010-11-19   \n",
       "1                      How to Train Your Dragon      28.734   2010-03-26   \n",
       "2                                    Iron Man 2      28.515   2010-05-07   \n",
       "3                                     Toy Story      28.005   1995-11-22   \n",
       "4                                     Inception      27.920   2010-07-16   \n",
       "\n",
       "                                          title  vote_average  vote_count  \n",
       "0  Harry Potter and the Deathly Hallows: Part 1           7.7       10788  \n",
       "1                      How to Train Your Dragon           7.7        7610  \n",
       "2                                    Iron Man 2           6.8       12368  \n",
       "3                                     Toy Story           7.9       10174  \n",
       "4                                     Inception           8.3       22186  "
      ]
     },
     "execution_count": 3,
     "metadata": {},
     "output_type": "execute_result"
    }
   ],
   "source": [
    "# Displaying the first 5 rows to ensure our data loaded well\n",
    "\n",
    "movie_data.head()"
   ]
  },
  {
   "cell_type": "markdown",
   "metadata": {},
   "source": [
    "The movie_data contains data about a movie and shows the language it was first produced in ,the release date and its popularity.\n",
    "\n",
    "Now we'll investigate \n",
    " * what data we have and the corresponding data types of columns\n",
    " * discover any missing values in the data set\n"
   ]
  },
  {
   "cell_type": "code",
   "execution_count": 4,
   "metadata": {},
   "outputs": [
    {
     "name": "stdout",
     "output_type": "stream",
     "text": [
      "<class 'pandas.core.frame.DataFrame'>\n",
      "Int64Index: 26517 entries, 0 to 26516\n",
      "Data columns (total 9 columns):\n",
      " #   Column             Non-Null Count  Dtype  \n",
      "---  ------             --------------  -----  \n",
      " 0   genre_ids          26517 non-null  object \n",
      " 1   id                 26517 non-null  int64  \n",
      " 2   original_language  26517 non-null  object \n",
      " 3   original_title     26517 non-null  object \n",
      " 4   popularity         26517 non-null  float64\n",
      " 5   release_date       26517 non-null  object \n",
      " 6   title              26517 non-null  object \n",
      " 7   vote_average       26517 non-null  float64\n",
      " 8   vote_count         26517 non-null  int64  \n",
      "dtypes: float64(2), int64(2), object(5)\n",
      "memory usage: 2.0+ MB\n"
     ]
    }
   ],
   "source": [
    "movie_data.info()"
   ]
  },
  {
   "cell_type": "markdown",
   "metadata": {},
   "source": [
    "From the code above we now know that:\n",
    " - Our movie_data has 9 columns\n",
    " - 26517 enteries in our dataset\n",
    " - the columns appear to be all full\n",
    " "
   ]
  },
  {
   "cell_type": "markdown",
   "metadata": {},
   "source": [
    "#### Our second data is stored in a zipped sqlite Database.We'll have to first unzip it then create a connection to the database so we can access it.\n"
   ]
  },
  {
   "cell_type": "code",
   "execution_count": 5,
   "metadata": {},
   "outputs": [],
   "source": [
    "# import the zipfile module to help unzip the data\n",
    "import zipfile\n",
    "\n",
    "#Extract files from 'im.db.zip' to the zipped directory\n",
    "with zipfile.ZipFile('zippedData/im.db.zip', 'r') as zip_ref:\n",
    "    zip_ref.extractall(path='zippedData')\n",
    "    \n",
    "# creating a connection to the database\n",
    "conn = sqlite3.connect('zippedData/im.db')"
   ]
  },
  {
   "cell_type": "markdown",
   "metadata": {},
   "source": [
    "We'll now read this dataset and extract two tables we are interested in for analysis and assign them to the variables: movie_basics and movie_ratings"
   ]
  },
  {
   "cell_type": "code",
   "execution_count": 6,
   "metadata": {},
   "outputs": [],
   "source": [
    "movie_basics = pd.read_sql(\"SELECT * FROM movie_basics;\", conn)\n",
    "\n",
    "movie_ratings = pd.read_sql(\"SELECT * FROM movie_ratings;\", conn)"
   ]
  },
  {
   "cell_type": "code",
   "execution_count": 7,
   "metadata": {},
   "outputs": [
    {
     "data": {
      "text/html": [
       "<div>\n",
       "<style scoped>\n",
       "    .dataframe tbody tr th:only-of-type {\n",
       "        vertical-align: middle;\n",
       "    }\n",
       "\n",
       "    .dataframe tbody tr th {\n",
       "        vertical-align: top;\n",
       "    }\n",
       "\n",
       "    .dataframe thead th {\n",
       "        text-align: right;\n",
       "    }\n",
       "</style>\n",
       "<table border=\"1\" class=\"dataframe\">\n",
       "  <thead>\n",
       "    <tr style=\"text-align: right;\">\n",
       "      <th></th>\n",
       "      <th>movie_id</th>\n",
       "      <th>primary_title</th>\n",
       "      <th>original_title</th>\n",
       "      <th>start_year</th>\n",
       "      <th>runtime_minutes</th>\n",
       "      <th>genres</th>\n",
       "    </tr>\n",
       "  </thead>\n",
       "  <tbody>\n",
       "    <tr>\n",
       "      <th>0</th>\n",
       "      <td>tt0063540</td>\n",
       "      <td>Sunghursh</td>\n",
       "      <td>Sunghursh</td>\n",
       "      <td>2013</td>\n",
       "      <td>175.0</td>\n",
       "      <td>Action,Crime,Drama</td>\n",
       "    </tr>\n",
       "    <tr>\n",
       "      <th>1</th>\n",
       "      <td>tt0066787</td>\n",
       "      <td>One Day Before the Rainy Season</td>\n",
       "      <td>Ashad Ka Ek Din</td>\n",
       "      <td>2019</td>\n",
       "      <td>114.0</td>\n",
       "      <td>Biography,Drama</td>\n",
       "    </tr>\n",
       "    <tr>\n",
       "      <th>2</th>\n",
       "      <td>tt0069049</td>\n",
       "      <td>The Other Side of the Wind</td>\n",
       "      <td>The Other Side of the Wind</td>\n",
       "      <td>2018</td>\n",
       "      <td>122.0</td>\n",
       "      <td>Drama</td>\n",
       "    </tr>\n",
       "    <tr>\n",
       "      <th>3</th>\n",
       "      <td>tt0069204</td>\n",
       "      <td>Sabse Bada Sukh</td>\n",
       "      <td>Sabse Bada Sukh</td>\n",
       "      <td>2018</td>\n",
       "      <td>NaN</td>\n",
       "      <td>Comedy,Drama</td>\n",
       "    </tr>\n",
       "    <tr>\n",
       "      <th>4</th>\n",
       "      <td>tt0100275</td>\n",
       "      <td>The Wandering Soap Opera</td>\n",
       "      <td>La Telenovela Errante</td>\n",
       "      <td>2017</td>\n",
       "      <td>80.0</td>\n",
       "      <td>Comedy,Drama,Fantasy</td>\n",
       "    </tr>\n",
       "  </tbody>\n",
       "</table>\n",
       "</div>"
      ],
      "text/plain": [
       "    movie_id                    primary_title              original_title  \\\n",
       "0  tt0063540                        Sunghursh                   Sunghursh   \n",
       "1  tt0066787  One Day Before the Rainy Season             Ashad Ka Ek Din   \n",
       "2  tt0069049       The Other Side of the Wind  The Other Side of the Wind   \n",
       "3  tt0069204                  Sabse Bada Sukh             Sabse Bada Sukh   \n",
       "4  tt0100275         The Wandering Soap Opera       La Telenovela Errante   \n",
       "\n",
       "   start_year  runtime_minutes                genres  \n",
       "0        2013            175.0    Action,Crime,Drama  \n",
       "1        2019            114.0       Biography,Drama  \n",
       "2        2018            122.0                 Drama  \n",
       "3        2018              NaN          Comedy,Drama  \n",
       "4        2017             80.0  Comedy,Drama,Fantasy  "
      ]
     },
     "execution_count": 7,
     "metadata": {},
     "output_type": "execute_result"
    }
   ],
   "source": [
    "# Displaying the first 5 rows to have an overview of the movie_basics\n",
    "\n",
    "movie_basics.head()"
   ]
  },
  {
   "cell_type": "markdown",
   "metadata": {},
   "source": [
    "The movie_basics contains data about a movie,the primary title and original title of the movie, the year it was released along with the movie duration and the genre the movie is in .The movie_id is the unique identifier for each movie "
   ]
  },
  {
   "cell_type": "code",
   "execution_count": 8,
   "metadata": {},
   "outputs": [
    {
     "name": "stdout",
     "output_type": "stream",
     "text": [
      "<class 'pandas.core.frame.DataFrame'>\n",
      "RangeIndex: 146144 entries, 0 to 146143\n",
      "Data columns (total 6 columns):\n",
      " #   Column           Non-Null Count   Dtype  \n",
      "---  ------           --------------   -----  \n",
      " 0   movie_id         146144 non-null  object \n",
      " 1   primary_title    146144 non-null  object \n",
      " 2   original_title   146123 non-null  object \n",
      " 3   start_year       146144 non-null  int64  \n",
      " 4   runtime_minutes  114405 non-null  float64\n",
      " 5   genres           140736 non-null  object \n",
      "dtypes: float64(1), int64(1), object(4)\n",
      "memory usage: 6.7+ MB\n"
     ]
    }
   ],
   "source": [
    "movie_basics.info()"
   ]
  },
  {
   "cell_type": "markdown",
   "metadata": {},
   "source": [
    "From the code above  we know that:\n",
    "  * we have 6 columns\n",
    "  * there are 146144 entries in the dataset\n",
    "  * movie_id, primary_title, original_title and genres have Object data types whereas start_year and run_time have integers\n",
    "  \n",
    "  ##### missing data in movie_basics\n",
    "​\n",
    "From the analysis above the original_title, runtime_minutes and genres columns have missing data"
   ]
  },
  {
   "cell_type": "code",
   "execution_count": 9,
   "metadata": {},
   "outputs": [
    {
     "data": {
      "text/html": [
       "<div>\n",
       "<style scoped>\n",
       "    .dataframe tbody tr th:only-of-type {\n",
       "        vertical-align: middle;\n",
       "    }\n",
       "\n",
       "    .dataframe tbody tr th {\n",
       "        vertical-align: top;\n",
       "    }\n",
       "\n",
       "    .dataframe thead th {\n",
       "        text-align: right;\n",
       "    }\n",
       "</style>\n",
       "<table border=\"1\" class=\"dataframe\">\n",
       "  <thead>\n",
       "    <tr style=\"text-align: right;\">\n",
       "      <th></th>\n",
       "      <th>movie_id</th>\n",
       "      <th>averagerating</th>\n",
       "      <th>numvotes</th>\n",
       "    </tr>\n",
       "  </thead>\n",
       "  <tbody>\n",
       "    <tr>\n",
       "      <th>0</th>\n",
       "      <td>tt10356526</td>\n",
       "      <td>8.3</td>\n",
       "      <td>31</td>\n",
       "    </tr>\n",
       "    <tr>\n",
       "      <th>1</th>\n",
       "      <td>tt10384606</td>\n",
       "      <td>8.9</td>\n",
       "      <td>559</td>\n",
       "    </tr>\n",
       "    <tr>\n",
       "      <th>2</th>\n",
       "      <td>tt1042974</td>\n",
       "      <td>6.4</td>\n",
       "      <td>20</td>\n",
       "    </tr>\n",
       "    <tr>\n",
       "      <th>3</th>\n",
       "      <td>tt1043726</td>\n",
       "      <td>4.2</td>\n",
       "      <td>50352</td>\n",
       "    </tr>\n",
       "    <tr>\n",
       "      <th>4</th>\n",
       "      <td>tt1060240</td>\n",
       "      <td>6.5</td>\n",
       "      <td>21</td>\n",
       "    </tr>\n",
       "  </tbody>\n",
       "</table>\n",
       "</div>"
      ],
      "text/plain": [
       "     movie_id  averagerating  numvotes\n",
       "0  tt10356526            8.3        31\n",
       "1  tt10384606            8.9       559\n",
       "2   tt1042974            6.4        20\n",
       "3   tt1043726            4.2     50352\n",
       "4   tt1060240            6.5        21"
      ]
     },
     "execution_count": 9,
     "metadata": {},
     "output_type": "execute_result"
    }
   ],
   "source": [
    "# Displaying the first 5 rows  of movie_ratings to have an overview of it\n",
    "\n",
    "movie_ratings.head()"
   ]
  },
  {
   "cell_type": "markdown",
   "metadata": {},
   "source": [
    "This dataset shows the average rating a movie got and the number of votes for the rating.The movie_id is the unique identifier for a movie"
   ]
  },
  {
   "cell_type": "code",
   "execution_count": 10,
   "metadata": {},
   "outputs": [
    {
     "name": "stdout",
     "output_type": "stream",
     "text": [
      "<class 'pandas.core.frame.DataFrame'>\n",
      "RangeIndex: 73856 entries, 0 to 73855\n",
      "Data columns (total 3 columns):\n",
      " #   Column         Non-Null Count  Dtype  \n",
      "---  ------         --------------  -----  \n",
      " 0   movie_id       73856 non-null  object \n",
      " 1   averagerating  73856 non-null  float64\n",
      " 2   numvotes       73856 non-null  int64  \n",
      "dtypes: float64(1), int64(1), object(1)\n",
      "memory usage: 1.7+ MB\n"
     ]
    }
   ],
   "source": [
    "movie_ratings.info()"
   ]
  },
  {
   "cell_type": "markdown",
   "metadata": {},
   "source": [
    "From the analysis above\n",
    " * We have 3 columns in our dataset\n",
    " * The dataset contains 73856 entries\n",
    " * there seems to be no missing values"
   ]
  },
  {
   "cell_type": "markdown",
   "metadata": {},
   "source": [
    "#### Using pandas we'll open our last data, _'tn.movie_budgets.csv.gz'_ csv file from the Zipped Data folder and save it in a data frame called movie_budgets"
   ]
  },
  {
   "cell_type": "code",
   "execution_count": 11,
   "metadata": {},
   "outputs": [],
   "source": [
    "movie_budgets = pd.read_csv('zippedData/tn.movie_budgets.csv.gz')"
   ]
  },
  {
   "cell_type": "code",
   "execution_count": 12,
   "metadata": {},
   "outputs": [
    {
     "data": {
      "text/html": [
       "<div>\n",
       "<style scoped>\n",
       "    .dataframe tbody tr th:only-of-type {\n",
       "        vertical-align: middle;\n",
       "    }\n",
       "\n",
       "    .dataframe tbody tr th {\n",
       "        vertical-align: top;\n",
       "    }\n",
       "\n",
       "    .dataframe thead th {\n",
       "        text-align: right;\n",
       "    }\n",
       "</style>\n",
       "<table border=\"1\" class=\"dataframe\">\n",
       "  <thead>\n",
       "    <tr style=\"text-align: right;\">\n",
       "      <th></th>\n",
       "      <th>id</th>\n",
       "      <th>release_date</th>\n",
       "      <th>movie</th>\n",
       "      <th>production_budget</th>\n",
       "      <th>domestic_gross</th>\n",
       "      <th>worldwide_gross</th>\n",
       "    </tr>\n",
       "  </thead>\n",
       "  <tbody>\n",
       "    <tr>\n",
       "      <th>0</th>\n",
       "      <td>1</td>\n",
       "      <td>Dec 18, 2009</td>\n",
       "      <td>Avatar</td>\n",
       "      <td>$425,000,000</td>\n",
       "      <td>$760,507,625</td>\n",
       "      <td>$2,776,345,279</td>\n",
       "    </tr>\n",
       "    <tr>\n",
       "      <th>1</th>\n",
       "      <td>2</td>\n",
       "      <td>May 20, 2011</td>\n",
       "      <td>Pirates of the Caribbean: On Stranger Tides</td>\n",
       "      <td>$410,600,000</td>\n",
       "      <td>$241,063,875</td>\n",
       "      <td>$1,045,663,875</td>\n",
       "    </tr>\n",
       "    <tr>\n",
       "      <th>2</th>\n",
       "      <td>3</td>\n",
       "      <td>Jun 7, 2019</td>\n",
       "      <td>Dark Phoenix</td>\n",
       "      <td>$350,000,000</td>\n",
       "      <td>$42,762,350</td>\n",
       "      <td>$149,762,350</td>\n",
       "    </tr>\n",
       "    <tr>\n",
       "      <th>3</th>\n",
       "      <td>4</td>\n",
       "      <td>May 1, 2015</td>\n",
       "      <td>Avengers: Age of Ultron</td>\n",
       "      <td>$330,600,000</td>\n",
       "      <td>$459,005,868</td>\n",
       "      <td>$1,403,013,963</td>\n",
       "    </tr>\n",
       "    <tr>\n",
       "      <th>4</th>\n",
       "      <td>5</td>\n",
       "      <td>Dec 15, 2017</td>\n",
       "      <td>Star Wars Ep. VIII: The Last Jedi</td>\n",
       "      <td>$317,000,000</td>\n",
       "      <td>$620,181,382</td>\n",
       "      <td>$1,316,721,747</td>\n",
       "    </tr>\n",
       "  </tbody>\n",
       "</table>\n",
       "</div>"
      ],
      "text/plain": [
       "   id  release_date                                        movie  \\\n",
       "0   1  Dec 18, 2009                                       Avatar   \n",
       "1   2  May 20, 2011  Pirates of the Caribbean: On Stranger Tides   \n",
       "2   3   Jun 7, 2019                                 Dark Phoenix   \n",
       "3   4   May 1, 2015                      Avengers: Age of Ultron   \n",
       "4   5  Dec 15, 2017            Star Wars Ep. VIII: The Last Jedi   \n",
       "\n",
       "  production_budget domestic_gross worldwide_gross  \n",
       "0      $425,000,000   $760,507,625  $2,776,345,279  \n",
       "1      $410,600,000   $241,063,875  $1,045,663,875  \n",
       "2      $350,000,000    $42,762,350    $149,762,350  \n",
       "3      $330,600,000   $459,005,868  $1,403,013,963  \n",
       "4      $317,000,000   $620,181,382  $1,316,721,747  "
      ]
     },
     "execution_count": 12,
     "metadata": {},
     "output_type": "execute_result"
    }
   ],
   "source": [
    "# Displaying the first 5 rows of movie_budgets\n",
    "\n",
    "movie_budgets.head()"
   ]
  },
  {
   "cell_type": "markdown",
   "metadata": {},
   "source": [
    "movie_budgets contains data about a movie, its release date the production budget, and what it earned both in the US and globally"
   ]
  },
  {
   "cell_type": "code",
   "execution_count": 13,
   "metadata": {},
   "outputs": [
    {
     "name": "stdout",
     "output_type": "stream",
     "text": [
      "<class 'pandas.core.frame.DataFrame'>\n",
      "RangeIndex: 5782 entries, 0 to 5781\n",
      "Data columns (total 6 columns):\n",
      " #   Column             Non-Null Count  Dtype \n",
      "---  ------             --------------  ----- \n",
      " 0   id                 5782 non-null   int64 \n",
      " 1   release_date       5782 non-null   object\n",
      " 2   movie              5782 non-null   object\n",
      " 3   production_budget  5782 non-null   object\n",
      " 4   domestic_gross     5782 non-null   object\n",
      " 5   worldwide_gross    5782 non-null   object\n",
      "dtypes: int64(1), object(5)\n",
      "memory usage: 271.2+ KB\n"
     ]
    }
   ],
   "source": [
    "movie_budgets.info()"
   ]
  },
  {
   "cell_type": "markdown",
   "metadata": {},
   "source": [
    "From the code above we get to understand that:\n",
    " * the dataset has 6 columns\n",
    " * there are 5782 entries \n",
    " * all columns have object data types except for id column\n",
    " \n",
    " ##### missing data\n",
    " From initial observation all columns are full. \n",
    " The data types for some columns may need cleaning too"
   ]
  },
  {
   "cell_type": "markdown",
   "metadata": {},
   "source": [
    "# 2) DATA CLEANING AND ANALYSIS"
   ]
  },
  {
   "cell_type": "markdown",
   "metadata": {},
   "source": [
    "After having a clear understanding of the data we are dealing with, we will now put our data cleaning skills to the test and ensure we deal with:\n",
    " - missing values\n",
    " - duplicate values\n",
    " - correct data types\n",
    " - correct column names\n",
    " \n",
    " We will do the data cleaning and also answer the questions this analysis oughts to answer"
   ]
  },
  {
   "cell_type": "markdown",
   "metadata": {},
   "source": [
    "### Question 1: What Genre to venture into\n",
    "\n",
    "To answer this question we will make use of our movie_basics and movie_ratings data"
   ]
  },
  {
   "cell_type": "markdown",
   "metadata": {},
   "source": [
    "First let's merge the two dataframes since they have a common key(movie_id) and assign it to a variable **genres_df**"
   ]
  },
  {
   "cell_type": "code",
   "execution_count": 14,
   "metadata": {},
   "outputs": [
    {
     "name": "stdout",
     "output_type": "stream",
     "text": [
      "<class 'pandas.core.frame.DataFrame'>\n",
      "Int64Index: 73856 entries, 0 to 73855\n",
      "Data columns (total 8 columns):\n",
      " #   Column           Non-Null Count  Dtype  \n",
      "---  ------           --------------  -----  \n",
      " 0   movie_id         73856 non-null  object \n",
      " 1   primary_title    73856 non-null  object \n",
      " 2   original_title   73856 non-null  object \n",
      " 3   start_year       73856 non-null  int64  \n",
      " 4   runtime_minutes  66236 non-null  float64\n",
      " 5   genres           73052 non-null  object \n",
      " 6   averagerating    73856 non-null  float64\n",
      " 7   numvotes         73856 non-null  int64  \n",
      "dtypes: float64(2), int64(2), object(4)\n",
      "memory usage: 5.1+ MB\n"
     ]
    }
   ],
   "source": [
    "genres_df = pd.merge(movie_basics, movie_ratings, on='movie_id', how='inner')\n",
    "\n",
    "#Display the info about this new joined dataframe\n",
    "genres_df.info()"
   ]
  },
  {
   "cell_type": "markdown",
   "metadata": {},
   "source": [
    "We can now check to see if we have missing values in genres_df and get the sum of the total missing values per column"
   ]
  },
  {
   "cell_type": "code",
   "execution_count": 15,
   "metadata": {},
   "outputs": [
    {
     "data": {
      "text/plain": [
       "movie_id              0\n",
       "primary_title         0\n",
       "original_title        0\n",
       "start_year            0\n",
       "runtime_minutes    7620\n",
       "genres              804\n",
       "averagerating         0\n",
       "numvotes              0\n",
       "dtype: int64"
      ]
     },
     "execution_count": 15,
     "metadata": {},
     "output_type": "execute_result"
    }
   ],
   "source": [
    "genres_df.isna().sum()"
   ]
  },
  {
   "cell_type": "markdown",
   "metadata": {},
   "source": [
    "The runtime_minutes column has a lot of missing values but for this analysis we won't focus on it a lot, so for now we'll keep them as they are and shift our attention to the missing values from the genres column as our analysis majorly lies there.\n",
    "\n",
    "Let's get a random sample of some of the entries with missing genres "
   ]
  },
  {
   "cell_type": "code",
   "execution_count": 16,
   "metadata": {},
   "outputs": [
    {
     "data": {
      "text/html": [
       "<div>\n",
       "<style scoped>\n",
       "    .dataframe tbody tr th:only-of-type {\n",
       "        vertical-align: middle;\n",
       "    }\n",
       "\n",
       "    .dataframe tbody tr th {\n",
       "        vertical-align: top;\n",
       "    }\n",
       "\n",
       "    .dataframe thead th {\n",
       "        text-align: right;\n",
       "    }\n",
       "</style>\n",
       "<table border=\"1\" class=\"dataframe\">\n",
       "  <thead>\n",
       "    <tr style=\"text-align: right;\">\n",
       "      <th></th>\n",
       "      <th>movie_id</th>\n",
       "      <th>primary_title</th>\n",
       "      <th>original_title</th>\n",
       "      <th>start_year</th>\n",
       "      <th>runtime_minutes</th>\n",
       "      <th>genres</th>\n",
       "      <th>averagerating</th>\n",
       "      <th>numvotes</th>\n",
       "    </tr>\n",
       "  </thead>\n",
       "  <tbody>\n",
       "    <tr>\n",
       "      <th>687</th>\n",
       "      <td>tt10161980</td>\n",
       "      <td>Ituzaingo V3rit4</td>\n",
       "      <td>Ituzaingo V3rit4</td>\n",
       "      <td>2019</td>\n",
       "      <td>93.0</td>\n",
       "      <td>None</td>\n",
       "      <td>4.2</td>\n",
       "      <td>5</td>\n",
       "    </tr>\n",
       "    <tr>\n",
       "      <th>73034</th>\n",
       "      <td>tt9321572</td>\n",
       "      <td>The Smiling Lombana</td>\n",
       "      <td>The Smiling Lombana</td>\n",
       "      <td>2018</td>\n",
       "      <td>NaN</td>\n",
       "      <td>None</td>\n",
       "      <td>7.8</td>\n",
       "      <td>67</td>\n",
       "    </tr>\n",
       "    <tr>\n",
       "      <th>59844</th>\n",
       "      <td>tt6180770</td>\n",
       "      <td>La vida lliure</td>\n",
       "      <td>La vida lliure</td>\n",
       "      <td>2017</td>\n",
       "      <td>90.0</td>\n",
       "      <td>None</td>\n",
       "      <td>5.9</td>\n",
       "      <td>37</td>\n",
       "    </tr>\n",
       "    <tr>\n",
       "      <th>22564</th>\n",
       "      <td>tt2336359</td>\n",
       "      <td>Los días</td>\n",
       "      <td>Los días</td>\n",
       "      <td>2012</td>\n",
       "      <td>80.0</td>\n",
       "      <td>None</td>\n",
       "      <td>6.7</td>\n",
       "      <td>9</td>\n",
       "    </tr>\n",
       "    <tr>\n",
       "      <th>50442</th>\n",
       "      <td>tt5009014</td>\n",
       "      <td>Hugh Laurie: Live On The Queen Mary</td>\n",
       "      <td>Hugh Laurie: Live On The Queen Mary</td>\n",
       "      <td>2013</td>\n",
       "      <td>84.0</td>\n",
       "      <td>None</td>\n",
       "      <td>8.5</td>\n",
       "      <td>22</td>\n",
       "    </tr>\n",
       "    <tr>\n",
       "      <th>27027</th>\n",
       "      <td>tt2608700</td>\n",
       "      <td>Leapfrog: The Magnificent Museum of Opposite W...</td>\n",
       "      <td>Leapfrog: The Magnificent Museum of Opposite W...</td>\n",
       "      <td>2013</td>\n",
       "      <td>68.0</td>\n",
       "      <td>None</td>\n",
       "      <td>7.3</td>\n",
       "      <td>6</td>\n",
       "    </tr>\n",
       "    <tr>\n",
       "      <th>9320</th>\n",
       "      <td>tt1754399</td>\n",
       "      <td>Ramanegra</td>\n",
       "      <td>Ramanegra</td>\n",
       "      <td>2010</td>\n",
       "      <td>NaN</td>\n",
       "      <td>None</td>\n",
       "      <td>7.0</td>\n",
       "      <td>5</td>\n",
       "    </tr>\n",
       "    <tr>\n",
       "      <th>73384</th>\n",
       "      <td>tt9569306</td>\n",
       "      <td>Bad Girl Avenue</td>\n",
       "      <td>Bad Girl Avenue</td>\n",
       "      <td>2018</td>\n",
       "      <td>81.0</td>\n",
       "      <td>None</td>\n",
       "      <td>5.0</td>\n",
       "      <td>9</td>\n",
       "    </tr>\n",
       "    <tr>\n",
       "      <th>63430</th>\n",
       "      <td>tt6767134</td>\n",
       "      <td>Paris est une fête - Un film en 18 vagues</td>\n",
       "      <td>Paris est une fête - Un film en 18 vagues</td>\n",
       "      <td>2017</td>\n",
       "      <td>95.0</td>\n",
       "      <td>None</td>\n",
       "      <td>6.4</td>\n",
       "      <td>28</td>\n",
       "    </tr>\n",
       "    <tr>\n",
       "      <th>67844</th>\n",
       "      <td>tt7638100</td>\n",
       "      <td>What a Beautiful Voice</td>\n",
       "      <td>What a Beautiful Voice</td>\n",
       "      <td>2017</td>\n",
       "      <td>NaN</td>\n",
       "      <td>None</td>\n",
       "      <td>8.9</td>\n",
       "      <td>81</td>\n",
       "    </tr>\n",
       "  </tbody>\n",
       "</table>\n",
       "</div>"
      ],
      "text/plain": [
       "         movie_id                                      primary_title  \\\n",
       "687    tt10161980                                   Ituzaingo V3rit4   \n",
       "73034   tt9321572                                The Smiling Lombana   \n",
       "59844   tt6180770                                     La vida lliure   \n",
       "22564   tt2336359                                           Los días   \n",
       "50442   tt5009014                Hugh Laurie: Live On The Queen Mary   \n",
       "27027   tt2608700  Leapfrog: The Magnificent Museum of Opposite W...   \n",
       "9320    tt1754399                                          Ramanegra   \n",
       "73384   tt9569306                                    Bad Girl Avenue   \n",
       "63430   tt6767134          Paris est une fête - Un film en 18 vagues   \n",
       "67844   tt7638100                             What a Beautiful Voice   \n",
       "\n",
       "                                          original_title  start_year  \\\n",
       "687                                     Ituzaingo V3rit4        2019   \n",
       "73034                                The Smiling Lombana        2018   \n",
       "59844                                     La vida lliure        2017   \n",
       "22564                                           Los días        2012   \n",
       "50442                Hugh Laurie: Live On The Queen Mary        2013   \n",
       "27027  Leapfrog: The Magnificent Museum of Opposite W...        2013   \n",
       "9320                                           Ramanegra        2010   \n",
       "73384                                    Bad Girl Avenue        2018   \n",
       "63430          Paris est une fête - Un film en 18 vagues        2017   \n",
       "67844                             What a Beautiful Voice        2017   \n",
       "\n",
       "       runtime_minutes genres  averagerating  numvotes  \n",
       "687               93.0   None            4.2         5  \n",
       "73034              NaN   None            7.8        67  \n",
       "59844             90.0   None            5.9        37  \n",
       "22564             80.0   None            6.7         9  \n",
       "50442             84.0   None            8.5        22  \n",
       "27027             68.0   None            7.3         6  \n",
       "9320               NaN   None            7.0         5  \n",
       "73384             81.0   None            5.0         9  \n",
       "63430             95.0   None            6.4        28  \n",
       "67844              NaN   None            8.9        81  "
      ]
     },
     "execution_count": 16,
     "metadata": {},
     "output_type": "execute_result"
    }
   ],
   "source": [
    "missing_genre = genres_df[genres_df['genres'].isna()].sample(10, random_state=1)\n",
    "\n",
    "missing_genre"
   ]
  },
  {
   "cell_type": "markdown",
   "metadata": {},
   "source": [
    "Filling the missing values with another value from the column is risky since we won't be able to know if they are the right genre for it. For now lets drop the missing values to ensure the probability of inputing and changing the genres values is small."
   ]
  },
  {
   "cell_type": "code",
   "execution_count": 17,
   "metadata": {},
   "outputs": [],
   "source": [
    "# Drop the rows with missing values \n",
    "genres_df.dropna(subset=['genres'], inplace=True)\n",
    "\n",
    "#Assert they are no missing values in the genre column afterward\n",
    "assert genres_df['genres'].isna().sum() == 0"
   ]
  },
  {
   "cell_type": "code",
   "execution_count": 18,
   "metadata": {},
   "outputs": [
    {
     "data": {
      "text/plain": [
       "Drama                          11612\n",
       "Documentary                    10313\n",
       "Comedy                          5613\n",
       "Horror                          2692\n",
       "Comedy,Drama                    2617\n",
       "                               ...  \n",
       "Action,Adventure,Sport             1\n",
       "History,Music                      1\n",
       "Family,Music                       1\n",
       "Biography,Horror                   1\n",
       "Adventure,Animation,History        1\n",
       "Name: genres, Length: 923, dtype: int64"
      ]
     },
     "execution_count": 18,
     "metadata": {},
     "output_type": "execute_result"
    }
   ],
   "source": [
    "genres_df['genres'].value_counts()"
   ]
  },
  {
   "cell_type": "markdown",
   "metadata": {},
   "source": [
    "Now we will be able to answer the first question._What Genre to venture into_\n"
   ]
  },
  {
   "cell_type": "code",
   "execution_count": 19,
   "metadata": {},
   "outputs": [
    {
     "data": {
      "text/plain": [
       "Drama                   11612\n",
       "Documentary             10313\n",
       "Comedy                   5613\n",
       "Horror                   2692\n",
       "Comedy,Drama             2617\n",
       "Thriller                 1555\n",
       "Drama,Romance            1510\n",
       "Comedy,Romance           1236\n",
       "Comedy,Drama,Romance     1208\n",
       "Horror,Thriller          1004\n",
       "Name: genres, dtype: int64"
      ]
     },
     "execution_count": 19,
     "metadata": {},
     "output_type": "execute_result"
    }
   ],
   "source": [
    "#Find the 10 most popular genre to make a movie in and assign it to variable genres\n",
    "genres = genres_df['genres'].value_counts().head(10)\n",
    "genres"
   ]
  },
  {
   "cell_type": "code",
   "execution_count": 20,
   "metadata": {},
   "outputs": [
    {
     "data": {
      "text/plain": [
       "genres\n",
       "Comedy                  5.777998\n",
       "Comedy,Drama            6.364119\n",
       "Comedy,Drama,Romance    6.292467\n",
       "Comedy,Romance          5.845631\n",
       "Documentary             7.293794\n",
       "Drama                   6.494265\n",
       "Drama,Romance           6.294305\n",
       "Horror                  4.835475\n",
       "Horror,Thriller         4.811554\n",
       "Thriller                5.704244\n",
       "Name: averagerating, dtype: float64"
      ]
     },
     "execution_count": 20,
     "metadata": {},
     "output_type": "execute_result"
    }
   ],
   "source": [
    "# creating a list to store the names of the most popular genres\n",
    "popular_genres = [genre for genre in genres.index]\n",
    "#create a dataframe to store the mean averagerating for the popular_genres\n",
    "popular_df = genres_df[genres_df['genres'].isin(popular_genres)].groupby('genres')['averagerating'].mean()\n",
    "#display the popular_df\n",
    "popular_df"
   ]
  },
  {
   "cell_type": "code",
   "execution_count": 21,
   "metadata": {},
   "outputs": [
    {
     "data": {
      "image/png": "[encoded data removed]",
      "text/plain": [
       "<Figure size 1152x360 with 2 Axes>"
      ]
     },
     "metadata": {
      "needs_background": "light"
     },
     "output_type": "display_data"
    }
   ],
   "source": [
    "fig, (ax1,ax2) = plt.subplots(ncols=2, figsize=(16, 5))\n",
    "\n",
    "# Plot data\n",
    "ax1.bar(genres.index, genres.values, color='skyblue')\n",
    "ax2.bar(popular_df.index, popular_df.values, color='skyblue')\n",
    "\n",
    "# Customizing the first subplot appearance\n",
    "ax1.tick_params(axis=\"x\", labelrotation=90)\n",
    "ax1.set_xlabel(\"Movie Genre\")\n",
    "ax1.set_ylabel(\"Movie counts in Genre\")\n",
    "ax1.set_title(\"Distribution of movies by Genre\")\n",
    "\n",
    "#Customizing the second subplot appearence\n",
    "ax2.tick_params(axis=\"x\", labelrotation=90)\n",
    "ax2.set_xlabel(\"Movie Genre\")\n",
    "ax2.set_ylabel(\"Mean Rating per Genre\")\n",
    "ax2.set_title(\"Mean Ratings of popular Genres\");\n"
   ]
  },
  {
   "cell_type": "markdown",
   "metadata": {},
   "source": [
    "We have plotted to bar graphs to help understand the genre Microsoft should focus more when creating their studio.\n",
    "The first bargraph shows the 10 most popular genres where movies lie having Drama as the top one, but this alone is not enough to make a decision on.\n",
    "\n",
    "The second bargraph now analyses these top 10 genres and their ratings based on some votes from **IMDB** website. It shows that the movies with the highest average rating fall in the genres: 'Documentary' followed by 'Drama' then 'Comedy,Drama'."
   ]
  },
  {
   "cell_type": "markdown",
   "metadata": {},
   "source": [
    "### Recomendations\n",
    "\n",
    "Based on our analysis above we can conclude that the best Genre to invest in more is Drama and Documentary since they have  huge number of films being produced in those genres by other studios and their average ratings are the second and first highest respectively. "
   ]
  },
  {
   "cell_type": "markdown",
   "metadata": {},
   "source": [
    "## Question 2: How much to Invest in a Movie Production"
   ]
  },
  {
   "cell_type": "markdown",
   "metadata": {},
   "source": [
    "For this objective we'll make use of our data stored in the movies_budget variable"
   ]
  },
  {
   "cell_type": "code",
   "execution_count": 22,
   "metadata": {},
   "outputs": [
    {
     "name": "stdout",
     "output_type": "stream",
     "text": [
      "<class 'pandas.core.frame.DataFrame'>\n",
      "RangeIndex: 5782 entries, 0 to 5781\n",
      "Data columns (total 6 columns):\n",
      " #   Column             Non-Null Count  Dtype \n",
      "---  ------             --------------  ----- \n",
      " 0   id                 5782 non-null   int64 \n",
      " 1   release_date       5782 non-null   object\n",
      " 2   movie              5782 non-null   object\n",
      " 3   production_budget  5782 non-null   object\n",
      " 4   domestic_gross     5782 non-null   object\n",
      " 5   worldwide_gross    5782 non-null   object\n",
      "dtypes: int64(1), object(5)\n",
      "memory usage: 271.2+ KB\n"
     ]
    }
   ],
   "source": [
    "movie_budgets.info()"
   ]
  },
  {
   "cell_type": "markdown",
   "metadata": {},
   "source": [
    "The data types for the release_date, production_budget, domestic_gross and worldwide_gross are not properly recorder\n",
    "\n",
    "Let's clean that first"
   ]
  },
  {
   "cell_type": "code",
   "execution_count": 23,
   "metadata": {},
   "outputs": [],
   "source": [
    "# Create a function that removes the '$' sign and converts the output to a float\n",
    "def convert(value):\n",
    "    cleaned_value = value.replace('$', '').replace(',', '')  # Removes the $ and commas\n",
    "    return float(cleaned_value)  # Converts result to float "
   ]
  },
  {
   "cell_type": "markdown",
   "metadata": {},
   "source": [
    " let's call our function now and clean the data types for the production budget, domestic gross and worlwide gross\n",
    "\n"
   ]
  },
  {
   "cell_type": "code",
   "execution_count": 24,
   "metadata": {},
   "outputs": [],
   "source": [
    "#production budget\n",
    "movie_budgets['production_budget'] = movie_budgets['production_budget'].apply(convert)\n",
    "# domestic gross\n",
    "movie_budgets['domestic_gross'] = movie_budgets['domestic_gross'].apply(convert)\n",
    "# worldwide gross\n",
    "movie_budgets['worldwide_gross'] = movie_budgets['worldwide_gross'].apply(convert)\n"
   ]
  },
  {
   "cell_type": "markdown",
   "metadata": {},
   "source": [
    "We can now have the data types for _release_date_ from integers to be date"
   ]
  },
  {
   "cell_type": "code",
   "execution_count": 25,
   "metadata": {},
   "outputs": [],
   "source": [
    "movie_budgets['release_date'] = pd.to_datetime(movie_budgets['release_date'])"
   ]
  },
  {
   "cell_type": "markdown",
   "metadata": {},
   "source": [
    "confirming the changes were saved in our movie_budgets dataset"
   ]
  },
  {
   "cell_type": "code",
   "execution_count": 26,
   "metadata": {},
   "outputs": [
    {
     "name": "stdout",
     "output_type": "stream",
     "text": [
      "<class 'pandas.core.frame.DataFrame'>\n",
      "RangeIndex: 5782 entries, 0 to 5781\n",
      "Data columns (total 6 columns):\n",
      " #   Column             Non-Null Count  Dtype         \n",
      "---  ------             --------------  -----         \n",
      " 0   id                 5782 non-null   int64         \n",
      " 1   release_date       5782 non-null   datetime64[ns]\n",
      " 2   movie              5782 non-null   object        \n",
      " 3   production_budget  5782 non-null   float64       \n",
      " 4   domestic_gross     5782 non-null   float64       \n",
      " 5   worldwide_gross    5782 non-null   float64       \n",
      "dtypes: datetime64[ns](1), float64(3), int64(1), object(1)\n",
      "memory usage: 271.2+ KB\n"
     ]
    }
   ],
   "source": [
    "movie_budgets.info()"
   ]
  },
  {
   "cell_type": "markdown",
   "metadata": {},
   "source": [
    "From the code above, it shows that our movie_budget data appears to have no null values.\n",
    "Lets now check for any duplicates in the dataset"
   ]
  },
  {
   "cell_type": "code",
   "execution_count": 27,
   "metadata": {},
   "outputs": [
    {
     "data": {
      "text/plain": [
       "False    5782\n",
       "dtype: int64"
      ]
     },
     "execution_count": 27,
     "metadata": {},
     "output_type": "execute_result"
    }
   ],
   "source": [
    "movie_budgets.duplicated().value_counts()"
   ]
  },
  {
   "cell_type": "markdown",
   "metadata": {},
   "source": [
    "By running the above code we can agree that there are no duplicate values.\n",
    "\n",
    "Next we'll double check to see if we have any placeholder values in the _movie_ column or if they are unique to each other"
   ]
  },
  {
   "cell_type": "code",
   "execution_count": 28,
   "metadata": {},
   "outputs": [
    {
     "data": {
      "text/plain": [
       "array(['Avatar', 'Pirates of the Caribbean: On Stranger Tides',\n",
       "       'Dark Phoenix', ..., 'Return to the Land of Wonders',\n",
       "       'A Plague So Pleasant', 'My Date With Drew'], dtype=object)"
      ]
     },
     "execution_count": 28,
     "metadata": {},
     "output_type": "execute_result"
    }
   ],
   "source": [
    "movie_budgets['movie'].unique()"
   ]
  },
  {
   "cell_type": "markdown",
   "metadata": {},
   "source": [
    "We can now use our cleaned data for analysis to draw meaningful conclusions from it.\n",
    "\n",
    "To answer our second question: _How much to Invest in a Movie Production_ we will find the relationshipe between production_budget and total earnings both locally and worldwide"
   ]
  },
  {
   "cell_type": "code",
   "execution_count": 29,
   "metadata": {},
   "outputs": [
    {
     "data": {
      "text/html": [
       "<div>\n",
       "<style scoped>\n",
       "    .dataframe tbody tr th:only-of-type {\n",
       "        vertical-align: middle;\n",
       "    }\n",
       "\n",
       "    .dataframe tbody tr th {\n",
       "        vertical-align: top;\n",
       "    }\n",
       "\n",
       "    .dataframe thead th {\n",
       "        text-align: right;\n",
       "    }\n",
       "</style>\n",
       "<table border=\"1\" class=\"dataframe\">\n",
       "  <thead>\n",
       "    <tr style=\"text-align: right;\">\n",
       "      <th></th>\n",
       "      <th>id</th>\n",
       "      <th>release_date</th>\n",
       "      <th>movie</th>\n",
       "      <th>production_budget</th>\n",
       "      <th>domestic_gross</th>\n",
       "      <th>worldwide_gross</th>\n",
       "      <th>Total_Earnings</th>\n",
       "    </tr>\n",
       "  </thead>\n",
       "  <tbody>\n",
       "    <tr>\n",
       "      <th>0</th>\n",
       "      <td>1</td>\n",
       "      <td>2009-12-18</td>\n",
       "      <td>Avatar</td>\n",
       "      <td>425000000.0</td>\n",
       "      <td>760507625.0</td>\n",
       "      <td>2.776345e+09</td>\n",
       "      <td>3.536853e+09</td>\n",
       "    </tr>\n",
       "    <tr>\n",
       "      <th>1</th>\n",
       "      <td>2</td>\n",
       "      <td>2011-05-20</td>\n",
       "      <td>Pirates of the Caribbean: On Stranger Tides</td>\n",
       "      <td>410600000.0</td>\n",
       "      <td>241063875.0</td>\n",
       "      <td>1.045664e+09</td>\n",
       "      <td>1.286728e+09</td>\n",
       "    </tr>\n",
       "    <tr>\n",
       "      <th>2</th>\n",
       "      <td>3</td>\n",
       "      <td>2019-06-07</td>\n",
       "      <td>Dark Phoenix</td>\n",
       "      <td>350000000.0</td>\n",
       "      <td>42762350.0</td>\n",
       "      <td>1.497624e+08</td>\n",
       "      <td>1.925247e+08</td>\n",
       "    </tr>\n",
       "    <tr>\n",
       "      <th>3</th>\n",
       "      <td>4</td>\n",
       "      <td>2015-05-01</td>\n",
       "      <td>Avengers: Age of Ultron</td>\n",
       "      <td>330600000.0</td>\n",
       "      <td>459005868.0</td>\n",
       "      <td>1.403014e+09</td>\n",
       "      <td>1.862020e+09</td>\n",
       "    </tr>\n",
       "    <tr>\n",
       "      <th>4</th>\n",
       "      <td>5</td>\n",
       "      <td>2017-12-15</td>\n",
       "      <td>Star Wars Ep. VIII: The Last Jedi</td>\n",
       "      <td>317000000.0</td>\n",
       "      <td>620181382.0</td>\n",
       "      <td>1.316722e+09</td>\n",
       "      <td>1.936903e+09</td>\n",
       "    </tr>\n",
       "  </tbody>\n",
       "</table>\n",
       "</div>"
      ],
      "text/plain": [
       "   id release_date                                        movie  \\\n",
       "0   1   2009-12-18                                       Avatar   \n",
       "1   2   2011-05-20  Pirates of the Caribbean: On Stranger Tides   \n",
       "2   3   2019-06-07                                 Dark Phoenix   \n",
       "3   4   2015-05-01                      Avengers: Age of Ultron   \n",
       "4   5   2017-12-15            Star Wars Ep. VIII: The Last Jedi   \n",
       "\n",
       "   production_budget  domestic_gross  worldwide_gross  Total_Earnings  \n",
       "0        425000000.0     760507625.0     2.776345e+09    3.536853e+09  \n",
       "1        410600000.0     241063875.0     1.045664e+09    1.286728e+09  \n",
       "2        350000000.0      42762350.0     1.497624e+08    1.925247e+08  \n",
       "3        330600000.0     459005868.0     1.403014e+09    1.862020e+09  \n",
       "4        317000000.0     620181382.0     1.316722e+09    1.936903e+09  "
      ]
     },
     "execution_count": 29,
     "metadata": {},
     "output_type": "execute_result"
    }
   ],
   "source": [
    "# Create a new column that adds up thedomestic and worldwide gross earnings\n",
    "movie_budgets['Total_Earnings'] = movie_budgets['domestic_gross'] + movie_budgets['worldwide_gross'] \n",
    "\n",
    "#Display the first 5 rows\n",
    "movie_budgets.head()"
   ]
  },
  {
   "cell_type": "code",
   "execution_count": 30,
   "metadata": {},
   "outputs": [
    {
     "data": {
      "image/png": "[encoded data removed]",
      "text/plain": [
       "<Figure size 1152x576 with 1 Axes>"
      ]
     },
     "metadata": {
      "needs_background": "light"
     },
     "output_type": "display_data"
    }
   ],
   "source": [
    "fig, ax = plt.subplots(figsize=(16,8))\n",
    "\n",
    "sns.scatterplot( \n",
    "    x=movie_budgets['production_budget'],\n",
    "    y=movie_budgets[\"Total_Earnings\"], palette='green')\n",
    "\n",
    "#Customizing the scatterplot appearance\n",
    "ax.set_title('Relationship btwn Production Budget AND Total Gross')\n",
    "ax.set_xlabel('Production Budget ($)')\n",
    "ax.set_ylabel('Total Gross Earnings ($)');"
   ]
  },
  {
   "cell_type": "markdown",
   "metadata": {},
   "source": [
    "From the scatter plot above we can see there is a roughly upward slopping patern from left to right. This indicates that Production Budget and Total gross earnings have a positive linear relationship.\n",
    "\n",
    "By using the illustration above we can deduce that the higher you invest in a movie's production the higher the  total Gross earnings for that movie.\n"
   ]
  },
  {
   "cell_type": "markdown",
   "metadata": {},
   "source": [
    "### Recommendations\n",
    "\n",
    "For higher return from a movie, Microsoft should invest more in the production of the movie.From our data we can see that an average of $350,000,000 put in the production of a movie may gurantee a total earning of over a billion dollars which is a good investment to the company"
   ]
  },
  {
   "cell_type": "markdown",
   "metadata": {},
   "source": [
    "# Question 3: The relationship Between A Movie Language and Popularity with Audiance"
   ]
  },
  {
   "cell_type": "markdown",
   "metadata": {},
   "source": [
    "For this objective. we'll make use of our movie_data.\n",
    "\n",
    "Let's have an overview of it"
   ]
  },
  {
   "cell_type": "code",
   "execution_count": 31,
   "metadata": {},
   "outputs": [
    {
     "name": "stdout",
     "output_type": "stream",
     "text": [
      "<class 'pandas.core.frame.DataFrame'>\n",
      "Int64Index: 26517 entries, 0 to 26516\n",
      "Data columns (total 9 columns):\n",
      " #   Column             Non-Null Count  Dtype  \n",
      "---  ------             --------------  -----  \n",
      " 0   genre_ids          26517 non-null  object \n",
      " 1   id                 26517 non-null  int64  \n",
      " 2   original_language  26517 non-null  object \n",
      " 3   original_title     26517 non-null  object \n",
      " 4   popularity         26517 non-null  float64\n",
      " 5   release_date       26517 non-null  object \n",
      " 6   title              26517 non-null  object \n",
      " 7   vote_average       26517 non-null  float64\n",
      " 8   vote_count         26517 non-null  int64  \n",
      "dtypes: float64(2), int64(2), object(5)\n",
      "memory usage: 2.0+ MB\n"
     ]
    }
   ],
   "source": [
    "movie_data.info()"
   ]
  },
  {
   "cell_type": "markdown",
   "metadata": {},
   "source": [
    "The data set seems to be full but let's look for duplicate values and drop them from our data set so as to have accurate analysis"
   ]
  },
  {
   "cell_type": "code",
   "execution_count": 32,
   "metadata": {},
   "outputs": [
    {
     "data": {
      "text/plain": [
       "False    25497\n",
       "True      1020\n",
       "dtype: int64"
      ]
     },
     "execution_count": 32,
     "metadata": {},
     "output_type": "execute_result"
    }
   ],
   "source": [
    "# The true values in the output represent number of duplicate values\n",
    "\n",
    "movie_data.duplicated().value_counts()"
   ]
  },
  {
   "cell_type": "code",
   "execution_count": 33,
   "metadata": {},
   "outputs": [
    {
     "name": "stdout",
     "output_type": "stream",
     "text": [
      "<class 'pandas.core.frame.DataFrame'>\n",
      "Int64Index: 25497 entries, 0 to 26516\n",
      "Data columns (total 9 columns):\n",
      " #   Column             Non-Null Count  Dtype  \n",
      "---  ------             --------------  -----  \n",
      " 0   genre_ids          25497 non-null  object \n",
      " 1   id                 25497 non-null  int64  \n",
      " 2   original_language  25497 non-null  object \n",
      " 3   original_title     25497 non-null  object \n",
      " 4   popularity         25497 non-null  float64\n",
      " 5   release_date       25497 non-null  object \n",
      " 6   title              25497 non-null  object \n",
      " 7   vote_average       25497 non-null  float64\n",
      " 8   vote_count         25497 non-null  int64  \n",
      "dtypes: float64(2), int64(2), object(5)\n",
      "memory usage: 1.9+ MB\n"
     ]
    }
   ],
   "source": [
    "movie_data = movie_data.drop_duplicates()\n",
    "\n",
    "movie_data.info()"
   ]
  },
  {
   "cell_type": "markdown",
   "metadata": {},
   "source": [
    "We will now extract the top 10 languages and clean their names to universally known names and store them in a variable _top languages_"
   ]
  },
  {
   "cell_type": "code",
   "execution_count": 34,
   "metadata": {},
   "outputs": [],
   "source": [
    "# Get the top 10 languages\n",
    "top_languages = movie_data['original_language'].value_counts().head(10)\n"
   ]
  },
  {
   "cell_type": "markdown",
   "metadata": {},
   "source": [
    "We can see our top languages are 'en', 'fr', 'es' etc. Let's now convert the languages to farmiliar names"
   ]
  },
  {
   "cell_type": "code",
   "execution_count": 35,
   "metadata": {},
   "outputs": [],
   "source": [
    "# creating a dictionary to store the correct languages names and use it to replace the top_languages data\n",
    "language_names = {\n",
    "    'en': 'English',\n",
    "    'fr': 'French',\n",
    "    'es': 'Spanish',\n",
    "    'ru': 'Russian',\n",
    "    'ja': 'Japanese',\n",
    "    'de': 'German',\n",
    "    'zh': 'Chinese',\n",
    "    'hi': 'Hindi',\n",
    "    'it': 'Italian',\n",
    "    'pt': 'Portuguese'\n",
    "}\n"
   ]
  },
  {
   "cell_type": "code",
   "execution_count": 36,
   "metadata": {},
   "outputs": [
    {
     "data": {
      "text/plain": [
       "English       22384\n",
       "French          483\n",
       "Spanish         439\n",
       "Russian         295\n",
       "Japanese        244\n",
       "German          231\n",
       "Chinese         174\n",
       "Hindi           171\n",
       "Italian         119\n",
       "Portuguese       95\n",
       "Name: original_language, dtype: int64"
      ]
     },
     "execution_count": 36,
     "metadata": {},
     "output_type": "execute_result"
    }
   ],
   "source": [
    "movie_data['original_language'] = movie_data['original_language'].replace(language_names)\n",
    "\n",
    "# repeat the code execution to capture the right names\n",
    "top_languages = movie_data['original_language'].value_counts().head(10)\n",
    "\n",
    "top_languages"
   ]
  },
  {
   "cell_type": "markdown",
   "metadata": {},
   "source": [
    "To fully understand the best language to produce a movie in we will have two visualizations:\n",
    " * First one shows the languages with the most movies produced in it. From the count above we can register that English is already the most popular language, so we'll have another chart excluding English\n",
    " * Second one shows the language with the best  average ratings from the audiance"
   ]
  },
  {
   "cell_type": "code",
   "execution_count": 37,
   "metadata": {},
   "outputs": [
    {
     "data": {
      "image/png": "[encoded data removed]",
      "text/plain": [
       "<Figure size 1152x360 with 2 Axes>"
      ]
     },
     "metadata": {
      "needs_background": "light"
     },
     "output_type": "display_data"
    }
   ],
   "source": [
    "# 1st Plot to show Popular Language\n",
    "fig, (ax1,ax2) = plt.subplots(ncols=2, figsize=(16, 5))\n",
    "\n",
    "# Plot data\n",
    "ax1.bar(top_languages.index, top_languages.values, color='green')\n",
    "ax2.bar(top_languages.index[1:], top_languages.values[1:], color='green')\n",
    "\n",
    "# Customizing the first subplot appearance\n",
    "ax1.tick_params(axis=\"x\", labelrotation=90)\n",
    "ax1.set_xlabel(\"Language\")\n",
    "ax1.set_ylabel(\"Language Popularity\")\n",
    "ax1.set_title(\"Popular Languages including English\")\n",
    "\n",
    "#Customizing the second subplot appearence\n",
    "ax2.tick_params(axis=\"x\", labelrotation=90)\n",
    "ax2.set_xlabel(\"Language\")\n",
    "ax2.set_ylabel(\"Language Popularity\")\n",
    "ax2.set_title(\"Popular Languages excluding English\");\n"
   ]
  },
  {
   "cell_type": "markdown",
   "metadata": {},
   "source": [
    "From the visualization on the left above, it clearly indicates that most Studios create movies in English Language followed by French and Spanish.\n",
    "\n",
    "The second plot can now clearly show the range between the other movie languages.\n",
    "\n",
    "Based on the analysis above it is favourable to produce a movie in English since it already has a large audiance but the problem will be there is a steep competeition here. \n",
    "Other suitable languages are French, Spanish, Russian and Japanese.\n",
    "These 5 languages will be the best for Microsoft to indulge in.\n",
    "\n",
    "Let's go a step further and look at how these languages resonate with their audiance"
   ]
  },
  {
   "cell_type": "code",
   "execution_count": 38,
   "metadata": {},
   "outputs": [
    {
     "data": {
      "text/plain": [
       "original_language\n",
       "Chinese       3.679747\n",
       "English       2.998454\n",
       "French        4.188834\n",
       "German        2.897727\n",
       "Hindi         3.522497\n",
       "Italian       2.999345\n",
       "Japanese      5.439041\n",
       "Portuguese    2.373179\n",
       "Russian       2.362264\n",
       "Spanish       2.694150\n",
       "Name: popularity, dtype: float64"
      ]
     },
     "execution_count": 38,
     "metadata": {},
     "output_type": "execute_result"
    }
   ],
   "source": [
    "# creating a list to store the names of the most popular genres\n",
    "popular_languages = [language for language in top_languages.index]\n",
    "\n",
    "#create a dataframe to store the mean averagerating for the popular_genres\n",
    "language = movie_data[movie_data['original_language'].isin(popular_languages)].groupby('original_language')['popularity'].mean()\n",
    "\n",
    "#display the language dataframe\n",
    "language"
   ]
  },
  {
   "cell_type": "markdown",
   "metadata": {},
   "source": [
    "Let's now plot the second graph to show the audiance avarage rating choices on a language"
   ]
  },
  {
   "cell_type": "code",
   "execution_count": 39,
   "metadata": {},
   "outputs": [
    {
     "data": {
      "image/png": "[encoded data removed]",
      "text/plain": [
       "<Figure size 720x432 with 1 Axes>"
      ]
     },
     "metadata": {
      "needs_background": "light"
     },
     "output_type": "display_data"
    }
   ],
   "source": [
    "#2nd Plot to show language popularity by audiance pick\n",
    "plt.figure(figsize=(10, 6))\n",
    "\n",
    "sns.barplot(x=language.index, y=language.values)\n",
    "\n",
    "# Customize titles and axis labels\n",
    "plt.title('Popularity of movies by Audience Choices')\n",
    "plt.xlabel('Language')\n",
    "plt.ylabel('Average Popularity')\n",
    "\n",
    "# Rotate x-axis labels if needed\n",
    "plt.xticks(rotation=45);\n",
    "\n",
    "# Show plot\n",
    "plt.show()"
   ]
  },
  {
   "cell_type": "markdown",
   "metadata": {},
   "source": [
    "The bar graph above shows the most popular movie languages based on average votes by the audiance.\n",
    "\n",
    "Japanese movies seem to be most loved by the audiance , followed by French,Chinese and Hindi movies then English movies.\n",
    "We can get the understanding that these languages except Hindi and Chinese appear to be the most loved since they also appear in our top 5 most popular languages to produce a movie in originally and the popularity with the audiance seems to also be in agreement as they have high average ratings."
   ]
  },
  {
   "cell_type": "markdown",
   "metadata": {},
   "source": [
    "### Recommendations\n",
    "\n",
    "Microsoft should majorly focus on proding movies in the following languages :\n",
    "* English\n",
    "* Japanses\n",
    "* French\n"
   ]
  },
  {
   "cell_type": "markdown",
   "metadata": {},
   "source": [
    "# 3) OVERALL RECOMMENDATIONS"
   ]
  },
  {
   "cell_type": "markdown",
   "metadata": {},
   "source": [
    "After doing our analysis based on the data we had and focusing on a few aspects, to ensure high return on its investment when creating a studio and smooth transition into this new venture Microsoft can make use of this analysis and do the following:\n",
    "\n",
    "* Produce movies in the Drama and Documentary Genre\n",
    "* Put an investment of $350,000,000 in the production of a movie\n",
    "* Produce movies in English, French and Japanese languages"
   ]
  }
 ],
 "metadata": {
  "kernelspec": {
   "display_name": "Python 3",
   "language": "python",
   "name": "python3"
  },
  "language_info": {
   "codemirror_mode": {
    "name": "ipython",
    "version": 3
   },
   "file_extension": ".py",
   "mimetype": "text/x-python",
   "name": "python",
   "nbconvert_exporter": "python",
   "pygments_lexer": "ipython3",
   "version": "3.8.5"
  }
 },
 "nbformat": 4,
 "nbformat_minor": 2
}
